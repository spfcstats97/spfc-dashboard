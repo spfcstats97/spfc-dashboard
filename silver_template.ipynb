{
 "cells": [
  {
   "cell_type": "markdown",
   "metadata": {
    "application/vnd.databricks.v1+cell": {
     "cellMetadata": {},
     "inputWidgets": {},
     "nuid": "013f188a-54e4-4b45-89f7-c696fc528db0",
     "showTitle": false,
     "tableResultSettingsMap": {},
     "title": ""
    }
   },
   "source": [
    "# Pipeline Name\n",
    "**Notebook**: notebook_name.py\n",
    "\n",
    "## Overview\n",
    "Pipeline overview\n",
    "\n",
    "## Dependencies\n",
    "- **Modules**: \n",
    "`Kaizen.commons.processing.data_process`\n",
    "`Kaizen.commons.processing.data_entities`\n",
    "`Kaizen.commons.config.yaml_loader`\n",
    "`Kaizen.commons.processing.logger`\n",
    "`Kaizen.commons.config.connections`\n",
    "\n",
    "- **SQL Template**: `../../../commons/sql/sql_path.sql`\n",
    "- **DDL Template**: `../../../commons/ddl/ddl_path.sql`\n",
    "\n",
    "## Table Schema\n",
    "Input the table schema.\n",
    "\n",
    "## Table Configuration\n",
    "### Storage Properties\n",
    "- **Format**: Delta Lake\n",
    "- **Clustering**: (columns which clustering is applied if needed)\n",
    "\n",
    "## Process Flow\n",
    "1. **Table Creation**\n",
    "   - Creates table if not exists with specified schema\n",
    "   - Sets clustering and Delta properties\n",
    "\n",
    "2. **Spark Configuration**\n",
    "   - Enables adaptive query optimization\n",
    "   - Enables adaptive optimizer\n",
    "\n",
    "3. **Data Processing**\n",
    "   Brief description of how the data is processed.\n",
    "\n",
    "4. **Table Maintenance**\n",
    "   - Performs VACUUM operation\n",
    "   - Runs OPTIMIZE command\n",
    "5. **SQL Lint**\n",
    "   - Detect lint errors on SQL queries\n",
    "   \n",
    "\n",
    "\n",
    "## Execution Details\n",
    "- **Schedule**: Daily run\n",
    "- **Processing Mode**: Spark write method\n",
    "- **Data Cleanup**: Removes current day's data before processing\n",
    "- **SQL Implementation**: Data transformation logic embedded in SQL template\n",
    "\n",
    "## Usage Notes\n",
    "Additional usage notes\n",
    "\n",
    "---\n",
    "*Last Updated: December 2024*  \n",
    "*Maintainer: CI&T Data Engineering Team*"
   ]
  },
  {
   "cell_type": "code",
   "execution_count": 0,
   "metadata": {
    "application/vnd.databricks.v1+cell": {
     "cellMetadata": {
      "byteLimit": 2048000,
      "rowLimit": 10000
     },
     "inputWidgets": {},
     "nuid": "ed277803-cf41-4b51-ac1e-6d7962c659f1",
     "showTitle": false,
     "tableResultSettingsMap": {},
     "title": ""
    }
   },
   "outputs": [
    {
     "output_type": "stream",
     "name": "stdout",
     "output_type": "stream",
     "text": [
      "Collecting sqlfluff\n  Obtaining dependency information for sqlfluff from https://files.pythonhosted.org/packages/59/b3/cc0d377a3354215edd7fa415c3909d2b76f6c803d0c47b38f61f488ae31c/sqlfluff-3.3.1-py3-none-any.whl.metadata\n  Downloading sqlfluff-3.3.1-py3-none-any.whl.metadata (12 kB)\nRequirement already satisfied: platformdirs in /databricks/python3/lib/python3.11/site-packages (from sqlfluff) (3.10.0)\nRequirement already satisfied: chardet in /databricks/python3/lib/python3.11/site-packages (from sqlfluff) (4.0.0)\nRequirement already satisfied: click in /databricks/python3/lib/python3.11/site-packages (from sqlfluff) (8.0.4)\nCollecting colorama>=0.3 (from sqlfluff)\n  Obtaining dependency information for colorama>=0.3 from https://files.pythonhosted.org/packages/d1/d6/3965ed04c63042e047cb6a3e6ed1a63a35087b6a609aa3a15ed8ac56c221/colorama-0.4.6-py2.py3-none-any.whl.metadata\n  Downloading colorama-0.4.6-py2.py3-none-any.whl.metadata (17 kB)\nCollecting diff-cover>=2.5.0 (from sqlfluff)\n  Obtaining dependency information for diff-cover>=2.5.0 from https://files.pythonhosted.org/packages/bf/36/4093a0d6bff40e6de69cadce3aa0cebe8597718c7cf4225a78b8cff2c861/diff_cover-9.2.2-py3-none-any.whl.metadata\n  Downloading diff_cover-9.2.2-py3-none-any.whl.metadata (18 kB)\nCollecting Jinja2 (from sqlfluff)\n  Obtaining dependency information for Jinja2 from https://files.pythonhosted.org/packages/bd/0f/2ba5fbcd631e3e88689309dbe978c5769e883e4b84ebfe7da30b43275c5a/jinja2-3.1.5-py3-none-any.whl.metadata\n  Downloading jinja2-3.1.5-py3-none-any.whl.metadata (2.6 kB)\nRequirement already satisfied: pathspec in /databricks/python3/lib/python3.11/site-packages (from sqlfluff) (0.10.3)\nCollecting pytest (from sqlfluff)\n  Obtaining dependency information for pytest from https://files.pythonhosted.org/packages/11/92/76a1c94d3afee238333bc0a42b82935dd8f9cf8ce9e336ff87ee14d9e1cf/pytest-8.3.4-py3-none-any.whl.metadata\n  Downloading pytest-8.3.4-py3-none-any.whl.metadata (7.5 kB)\nRequirement already satisfied: pyyaml>=5.1 in /databricks/python3/lib/python3.11/site-packages (from sqlfluff) (6.0)\nCollecting regex (from sqlfluff)\n  Obtaining dependency information for regex from https://files.pythonhosted.org/packages/bf/ce/0d0e61429f603bac433910d99ef1a02ce45a8967ffbe3cbee48599e62d88/regex-2024.11.6-cp311-cp311-manylinux_2_17_x86_64.manylinux2014_x86_64.whl.metadata\n  Downloading regex-2024.11.6-cp311-cp311-manylinux_2_17_x86_64.manylinux2014_x86_64.whl.metadata (40 kB)\n\u001B[?25l     \u001B[90m━━━━━━━━━━━━━━━━━━━━━━━━━━━━━━━━━━━━━━━━\u001B[0m \u001B[32m0.0/40.5 kB\u001B[0m \u001B[31m?\u001B[0m eta \u001B[36m-:--:--\u001B[0m\r\u001B[2K     \u001B[90m━━━━━━━━━━━━━━━━━━━━━━━━━━━━━━━━━━━━━━━━\u001B[0m \u001B[32m40.5/40.5 kB\u001B[0m \u001B[31m3.5 MB/s\u001B[0m eta \u001B[36m0:00:00\u001B[0m\n\u001B[?25hCollecting tblib (from sqlfluff)\n  Obtaining dependency information for tblib from https://files.pythonhosted.org/packages/9b/87/ce70db7cae60e67851eb94e1a2127d4abb573d3866d2efd302ceb0d4d2a5/tblib-3.0.0-py3-none-any.whl.metadata\n  Downloading tblib-3.0.0-py3-none-any.whl.metadata (25 kB)\nCollecting tqdm (from sqlfluff)\n  Obtaining dependency information for tqdm from https://files.pythonhosted.org/packages/d0/30/dc54f88dd4a2b5dc8a0279bdd7270e735851848b762aeb1c1184ed1f6b14/tqdm-4.67.1-py3-none-any.whl.metadata\n  Downloading tqdm-4.67.1-py3-none-any.whl.metadata (57 kB)\n\u001B[?25l     \u001B[90m━━━━━━━━━━━━━━━━━━━━━━━━━━━━━━━━━━━━━━━━\u001B[0m \u001B[32m0.0/57.7 kB\u001B[0m \u001B[31m?\u001B[0m eta \u001B[36m-:--:--\u001B[0m\r\u001B[2K     \u001B[90m━━━━━━━━━━━━━━━━━━━━━━━━━━━━━━━━━━━━━━━━\u001B[0m \u001B[32m57.7/57.7 kB\u001B[0m \u001B[31m5.9 MB/s\u001B[0m eta \u001B[36m0:00:00\u001B[0m\n\u001B[?25hRequirement already satisfied: Pygments<3.0.0,>=2.9.0 in /databricks/python3/lib/python3.11/site-packages (from diff-cover>=2.5.0->sqlfluff) (2.15.1)\nCollecting pluggy<2,>=0.13.1 (from diff-cover>=2.5.0->sqlfluff)\n  Obtaining dependency information for pluggy<2,>=0.13.1 from https://files.pythonhosted.org/packages/88/5f/e351af9a41f866ac3f1fac4ca0613908d9a41741cfcf2228f4ad853b697d/pluggy-1.5.0-py3-none-any.whl.metadata\n  Downloading pluggy-1.5.0-py3-none-any.whl.metadata (4.8 kB)\nCollecting MarkupSafe>=2.0 (from Jinja2->sqlfluff)\n  Obtaining dependency information for MarkupSafe>=2.0 from https://files.pythonhosted.org/packages/f1/a4/aefb044a2cd8d7334c8a47d3fb2c9f328ac48cb349468cc31c20b539305f/MarkupSafe-3.0.2-cp311-cp311-manylinux_2_17_x86_64.manylinux2014_x86_64.whl.metadata\n  Downloading MarkupSafe-3.0.2-cp311-cp311-manylinux_2_17_x86_64.manylinux2014_x86_64.whl.metadata (4.0 kB)\nCollecting iniconfig (from pytest->sqlfluff)\n  Obtaining dependency information for iniconfig from https://files.pythonhosted.org/packages/ef/a6/62565a6e1cf69e10f5727360368e451d4b7f58beeac6173dc9db836a5b46/iniconfig-2.0.0-py3-none-any.whl.metadata\n  Downloading iniconfig-2.0.0-py3-none-any.whl.metadata (2.6 kB)\nRequirement already satisfied: packaging in /databricks/python3/lib/python3.11/site-packages (from pytest->sqlfluff) (23.2)\nDownloading sqlfluff-3.3.1-py3-none-any.whl (871 kB)\n\u001B[?25l   \u001B[90m━━━━━━━━━━━━━━━━━━━━━━━━━━━━━━━━━━━━━━━━\u001B[0m \u001B[32m0.0/871.6 kB\u001B[0m \u001B[31m?\u001B[0m eta \u001B[36m-:--:--\u001B[0m\r\u001B[2K   \u001B[91m━━━━━━━━━━━━━━━━━━━━━━━━━━━━━━━━━━━━━━━\u001B[0m\u001B[91m╸\u001B[0m \u001B[32m870.4/871.6 kB\u001B[0m \u001B[31m31.2 MB/s\u001B[0m eta \u001B[36m0:00:01\u001B[0m\r\u001B[2K   \u001B[90m━━━━━━━━━━━━━━━━━━━━━━━━━━━━━━━━━━━━━━━━\u001B[0m \u001B[32m871.6/871.6 kB\u001B[0m \u001B[31m21.2 MB/s\u001B[0m eta \u001B[36m0:00:00\u001B[0m\n\u001B[?25hDownloading colorama-0.4.6-py2.py3-none-any.whl (25 kB)\nDownloading diff_cover-9.2.2-py3-none-any.whl (52 kB)\n\u001B[?25l   \u001B[90m━━━━━━━━━━━━━━━━━━━━━━━━━━━━━━━━━━━━━━━━\u001B[0m \u001B[32m0.0/52.6 kB\u001B[0m \u001B[31m?\u001B[0m eta \u001B[36m-:--:--\u001B[0m\r\u001B[2K   \u001B[90m━━━━━━━━━━━━━━━━━━━━━━━━━━━━━━━━━━━━━━━━\u001B[0m \u001B[32m52.6/52.6 kB\u001B[0m \u001B[31m6.0 MB/s\u001B[0m eta \u001B[36m0:00:00\u001B[0m\n\u001B[?25hDownloading jinja2-3.1.5-py3-none-any.whl (134 kB)\n\u001B[?25l   \u001B[90m━━━━━━━━━━━━━━━━━━━━━━━━━━━━━━━━━━━━━━━━\u001B[0m \u001B[32m0.0/134.6 kB\u001B[0m \u001B[31m?\u001B[0m eta \u001B[36m-:--:--\u001B[0m\r\u001B[2K   \u001B[90m━━━━━━━━━━━━━━━━━━━━━━━━━━━━━━━━━━━━━━━━\u001B[0m \u001B[32m134.6/134.6 kB\u001B[0m \u001B[31m15.3 MB/s\u001B[0m eta \u001B[36m0:00:00\u001B[0m\n\u001B[?25hDownloading pytest-8.3.4-py3-none-any.whl (343 kB)\n\u001B[?25l   \u001B[90m━━━━━━━━━━━━━━━━━━━━━━━━━━━━━━━━━━━━━━━━\u001B[0m \u001B[32m0.0/343.1 kB\u001B[0m \u001B[31m?\u001B[0m eta \u001B[36m-:--:--\u001B[0m\r\u001B[2K   \u001B[90m━━━━━━━━━━━━━━━━━━━━━━━━━━━━━━━━━━━━━━━━\u001B[0m \u001B[32m343.1/343.1 kB\u001B[0m \u001B[31m32.9 MB/s\u001B[0m eta \u001B[36m0:00:00\u001B[0m\n\u001B[?25hDownloading regex-2024.11.6-cp311-cp311-manylinux_2_17_x86_64.manylinux2014_x86_64.whl (792 kB)\n\u001B[?25l   \u001B[90m━━━━━━━━━━━━━━━━━━━━━━━━━━━━━━━━━━━━━━━━\u001B[0m \u001B[32m0.0/792.7 kB\u001B[0m \u001B[31m?\u001B[0m eta \u001B[36m-:--:--\u001B[0m\r\u001B[2K   \u001B[90m━━━━━━━━━━━━━━━━━━━━━━━━━━━━━━━━━━━━━━━━\u001B[0m \u001B[32m792.7/792.7 kB\u001B[0m \u001B[31m26.2 MB/s\u001B[0m eta \u001B[36m0:00:00\u001B[0m\n\u001B[?25hDownloading tblib-3.0.0-py3-none-any.whl (12 kB)\nDownloading tqdm-4.67.1-py3-none-any.whl (78 kB)\n\u001B[?25l   \u001B[90m━━━━━━━━━━━━━━━━━━━━━━━━━━━━━━━━━━━━━━━━\u001B[0m \u001B[32m0.0/78.5 kB\u001B[0m \u001B[31m?\u001B[0m eta \u001B[36m-:--:--\u001B[0m\r\u001B[2K   \u001B[90m━━━━━━━━━━━━━━━━━━━━━━━━━━━━━━━━━━━━━━━━\u001B[0m \u001B[32m78.5/78.5 kB\u001B[0m \u001B[31m9.4 MB/s\u001B[0m eta \u001B[36m0:00:00\u001B[0m\n\u001B[?25hDownloading MarkupSafe-3.0.2-cp311-cp311-manylinux_2_17_x86_64.manylinux2014_x86_64.whl (23 kB)\nDownloading pluggy-1.5.0-py3-none-any.whl (20 kB)\nDownloading iniconfig-2.0.0-py3-none-any.whl (5.9 kB)\nInstalling collected packages: tqdm, tblib, regex, pluggy, MarkupSafe, iniconfig, colorama, pytest, Jinja2, diff-cover, sqlfluff\nSuccessfully installed Jinja2-3.1.5 MarkupSafe-3.0.2 colorama-0.4.6 diff-cover-9.2.2 iniconfig-2.0.0 pluggy-1.5.0 pytest-8.3.4 regex-2024.11.6 sqlfluff-3.3.1 tblib-3.0.0 tqdm-4.67.1\n"
     ]
    },
    {
     "output_type": "stream",
     "name": "stderr",
     "output_type": "stream",
     "text": [
      "\n\u001B[1m[\u001B[0m\u001B[34;49mnotice\u001B[0m\u001B[1;39;49m]\u001B[0m\u001B[39;49m A new release of pip is available: \u001B[0m\u001B[31;49m23.2.1\u001B[0m\u001B[39;49m -> \u001B[0m\u001B[32;49m25.0.1\u001B[0m\n\u001B[1m[\u001B[0m\u001B[34;49mnotice\u001B[0m\u001B[1;39;49m]\u001B[0m\u001B[39;49m To update, run: \u001B[0m\u001B[32;49mpip install --upgrade pip\u001B[0m\n"
     ]
    }
   ],
   "source": [
    "from Kaizen.commons.processing.data_process import DataProcess\n",
    "from Kaizen.commons.processing.data_entities import DeltaDestination\n",
    "from Kaizen.commons.config.yaml_loader import ConfigLoader\n",
    "from Kaizen.commons.processing.logger import get_logger\n",
    "from Kaizen.commons.sql_lint.sql_linter import lint_sql_files\n",
    "\n"
   ]
  },
  {
   "cell_type": "code",
   "execution_count": 0,
   "metadata": {
    "application/vnd.databricks.v1+cell": {
     "cellMetadata": {},
     "inputWidgets": {},
     "nuid": "98ed55d5-3396-4529-a03b-b1296b7c76b3",
     "showTitle": false,
     "tableResultSettingsMap": {},
     "title": ""
    }
   },
   "outputs": [],
   "source": [
    "##Config files for spark settings and log settings\n",
    "##Based on the yaml file on ../commons/config_files\n",
    "config_loader = ConfigLoader('../../commons/config_files/default.yaml')\n",
    "settings=config_loader.config[\"settings\"]\n",
    "log_settings = settings[\"log_settings\"] | {\"spark\": spark, \"context\": \"process_name\"}\n",
    "logger=get_logger(log_settings)\n",
    "process=DataProcess(spark,settings[\"spark_session\"],logger)"
   ]
  },
  {
   "cell_type": "code",
   "execution_count": 0,
   "metadata": {
    "application/vnd.databricks.v1+cell": {
     "cellMetadata": {},
     "inputWidgets": {},
     "nuid": "c8b5ea19-109c-424c-94bb-ddfcff700526",
     "showTitle": false,
     "tableResultSettingsMap": {},
     "title": ""
    }
   },
   "outputs": [],
   "source": [
    "##Configuration for target table, spark session and if you need to create a table or not\n",
    "config_destination = {\n",
    "    \"location_name\": \"table_name\",\n",
    "    \"mode\": \"overwrite\",#overwrite or append\n",
    "    \"create_table_from_schema\": False #True or False,\n",
    "    \"create_table_from_ddl\": True #To create a table from DDL\n",
    "    \"cleanup\" : True #to clean up the table if it has a created_date column, deletes current day data\n",
    "}\n",
    "transformation_sql_path=\"../../commons/sql/sql_path.sql\"#your path to SQL\n",
    "table_ddl_path=\"../../commons/sql/ddl/ddl_path.sql\"#your path to DDL"
   ]
  },
  {
   "cell_type": "code",
   "execution_count": 0,
   "metadata": {
    "application/vnd.databricks.v1+cell": {
     "cellMetadata": {},
     "inputWidgets": {},
     "nuid": "65534e65-e28d-4587-9323-91c044b82b05",
     "showTitle": false,
     "tableResultSettingsMap": {},
     "title": ""
    }
   },
   "outputs": [],
   "source": [
    "#Data processing classes, doesnt change since the parameters were already defined on the previous cell\n",
    "transformation = process.read_sql_template(transformation_sql_path)\n",
    "table_ddl=process.read_sql_template(table_ddl_path)\n",
    "\n",
    "destination=DeltaDestination(location_name=config_destination[\"location_name\"], mode=config_destination[\"mode\"], table_definition=table_ddl)\n",
    "\n",
    "process.transform(destination=destination, transformation=transformation, create_table_from_schema=config_destination[\"create_table_from_schema\"],cleanup=config_destination[\"cleanup\"], create_table_from_ddl=config_destination[\"create_table_from_ddl\"])"
   ]
  },
  {
   "cell_type": "code",
   "execution_count": 0,
   "metadata": {
    "application/vnd.databricks.v1+cell": {
     "cellMetadata": {},
     "inputWidgets": {},
     "nuid": "288d6b67-640f-46b0-b054-f09d136598c1",
     "showTitle": false,
     "tableResultSettingsMap": {},
     "title": ""
    }
   },
   "outputs": [],
   "source": [
    "# Check for linting errors in SQL queries\n",
    "df = lint_sql_files(\n",
    "    sql_path=\"/Workspace/Repos/*******/kaizen/Kaizen/commons/sql\",  # Path to the directory or SQL file\n",
    "    dialect=\"databricks\",  # SQL dialect to be used by SQLFluff\n",
    "    \n",
    "    save_to_table=True,  # If True, saves the results in a Delta table in Databricks\n",
    "    table_name=\"lint_results\"  # Name of the Delta table where results will be stored\n",
    ")"
   ]
  }
 ],
 "metadata": {
  "application/vnd.databricks.v1+notebook": {
   "computePreferences": null,
   "dashboards": [],
   "environmentMetadata": null,
   "language": "python",
   "notebookMetadata": {
    "pythonIndentUnit": 4
   },
   "notebookName": "silver_template",
   "widgets": {}
  },
  "language_info": {
   "name": "python"
  }
 },
 "nbformat": 4,
 "nbformat_minor": 0
}